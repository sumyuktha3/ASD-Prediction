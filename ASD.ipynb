{
  "nbformat": 4,
  "nbformat_minor": 0,
  "metadata": {
    "colab": {
      "provenance": [],
      "include_colab_link": true
    },
    "kernelspec": {
      "name": "python3",
      "display_name": "Python 3"
    },
    "language_info": {
      "name": "python"
    }
  },
  "cells": [
    {
      "cell_type": "markdown",
      "metadata": {
        "id": "view-in-github",
        "colab_type": "text"
      },
      "source": [
        "<a href=\"https://colab.research.google.com/github/sumyuktha3/ASD-Prediction/blob/main/ASD.ipynb\" target=\"_parent\"><img src=\"https://colab.research.google.com/assets/colab-badge.svg\" alt=\"Open In Colab\"/></a>"
      ]
    },
    {
      "cell_type": "code",
      "execution_count": null,
      "metadata": {
        "id": "q35EFwmT8uxA"
      },
      "outputs": [],
      "source": [
        "import pandas as pd\n",
        "from sklearn import model_selection\n",
        "from keras import Sequential\n",
        "from keras.layers import Dense\n",
        "from keras.optimizers import Adam \n",
        "from sklearn.metrics import classification_report, accuracy_score"
      ]
    },
    {
      "cell_type": "code",
      "source": [
        "# import the dataset\n",
        "file ='/content/autism-data.csv'\n",
        "names = ['A1_Score',\n",
        "        'A2_Score', \n",
        "        'A3_Score',                            \n",
        "        'A4_Score',                           \n",
        "        'A5_Score',                            \n",
        "        'A6_Score',                           \n",
        "        'A7_Score',                            \n",
        "        'A8_Score',                           \n",
        "        'A9_Score',                            \n",
        "        'A10_Score',                          \n",
        "        'age',                        \n",
        "        'gender ',                             \n",
        "        'ethnicity',                     \n",
        "        'jundice',                        \n",
        "        'family_history_of_PDD',         \n",
        "        'contry_of_res',                 \n",
        "        'used_app_before',                \n",
        "        'result',                         \n",
        "        'age_desc',                \n",
        "        'relation',         \n",
        "        'class'\n",
        "    ]\n",
        "data = pd.read_csv(file, names=names)"
      ],
      "metadata": {
        "id": "WJ9Ok_UL8y5f"
      },
      "execution_count": null,
      "outputs": []
    },
    {
      "cell_type": "code",
      "source": [
        "# print the shape of the dtaframe, so we can see how many examples we have\n",
        "print('Shape of dataframe: {}'.format(data.shape))\n",
        "print(data.loc[0])"
      ],
      "metadata": {
        "colab": {
          "base_uri": "https://localhost:8080/"
        },
        "id": "KpufSuCa9DNw",
        "outputId": "f06a00e2-1b9b-4523-b456-ac3a23fe2855"
      },
      "execution_count": null,
      "outputs": [
        {
          "output_type": "stream",
          "name": "stdout",
          "text": [
            "Shape of dataframe: (292, 21)\n",
            "A1_Score                            1\n",
            "A2_Score                            1\n",
            "A3_Score                            0\n",
            "A4_Score                            0\n",
            "A5_Score                            1\n",
            "A6_Score                            1\n",
            "A7_Score                            0\n",
            "A8_Score                            1\n",
            "A9_Score                            0\n",
            "A10_Score                           0\n",
            "age                                 6\n",
            "gender                              m\n",
            "ethnicity                      Others\n",
            "jundice                            no\n",
            "family_history_of_PDD              no\n",
            "contry_of_res                  Jordan\n",
            "used_app_before                    no\n",
            "result                              5\n",
            "age_desc                 '4-11 years'\n",
            "relation                       Parent\n",
            "class                              NO\n",
            "Name: 0, dtype: object\n"
          ]
        }
      ]
    },
    {
      "cell_type": "code",
      "source": [
        "# display multiple patients\n",
        "print(data.loc[:10])"
      ],
      "metadata": {
        "colab": {
          "base_uri": "https://localhost:8080/"
        },
        "id": "v8B2-COj9Lbl",
        "outputId": "001ad76e-c087-4b65-af2c-421f5d7e004d"
      },
      "execution_count": null,
      "outputs": [
        {
          "output_type": "stream",
          "name": "stdout",
          "text": [
            "    A1_Score  A2_Score  A3_Score  A4_Score  A5_Score  A6_Score  A7_Score  \\\n",
            "0          1         1         0         0         1         1         0   \n",
            "1          1         1         0         0         1         1         0   \n",
            "2          1         1         0         0         0         1         1   \n",
            "3          0         1         0         0         1         1         0   \n",
            "4          1         1         1         1         1         1         1   \n",
            "5          0         0         1         0         1         1         0   \n",
            "6          1         0         1         1         1         1         0   \n",
            "7          1         1         1         1         1         1         1   \n",
            "8          1         1         1         1         1         1         1   \n",
            "9          0         0         1         1         1         0         1   \n",
            "10         1         0         0         0         1         1         1   \n",
            "\n",
            "    A8_Score  A9_Score  A10_Score  ... gender           ethnicity jundice  \\\n",
            "0          1         0          0  ...       m             Others      no   \n",
            "1          1         0          0  ...       m  'Middle Eastern '      no   \n",
            "2          1         0          0  ...       m                  ?      no   \n",
            "3          0         0          1  ...       f                  ?     yes   \n",
            "4          1         1          1  ...       m             Others     yes   \n",
            "5          1         0          1  ...       m                  ?      no   \n",
            "6          1         0          1  ...       m     White-European      no   \n",
            "7          1         0          0  ...       f  'Middle Eastern '      no   \n",
            "8          0         0          0  ...       f  'Middle Eastern '      no   \n",
            "9          1         0          0  ...       f                  ?      no   \n",
            "10         1         1          1  ...       m     White-European     yes   \n",
            "\n",
            "   family_history_of_PDD     contry_of_res used_app_before result  \\\n",
            "0                     no            Jordan              no      5   \n",
            "1                     no            Jordan              no      5   \n",
            "2                     no            Jordan             yes      5   \n",
            "3                     no            Jordan              no      4   \n",
            "4                     no   'United States'              no     10   \n",
            "5                    yes             Egypt              no      5   \n",
            "6                     no  'United Kingdom'              no      7   \n",
            "7                     no           Bahrain              no      8   \n",
            "8                     no           Bahrain              no      7   \n",
            "9                    yes           Austria              no      5   \n",
            "10                    no  'United Kingdom'              no      7   \n",
            "\n",
            "        age_desc relation class  \n",
            "0   '4-11 years'   Parent    NO  \n",
            "1   '4-11 years'   Parent    NO  \n",
            "2   '4-11 years'        ?    NO  \n",
            "3   '4-11 years'        ?    NO  \n",
            "4   '4-11 years'   Parent   YES  \n",
            "5   '4-11 years'        ?    NO  \n",
            "6   '4-11 years'   Parent   YES  \n",
            "7   '4-11 years'   Parent   YES  \n",
            "8   '4-11 years'   Parent   YES  \n",
            "9   '4-11 years'        ?    NO  \n",
            "10  '4-11 years'     Self   YES  \n",
            "\n",
            "[11 rows x 21 columns]\n"
          ]
        }
      ]
    },
    {
      "cell_type": "code",
      "source": [
        "# description of the dataframe\n",
        "print(data.describe())"
      ],
      "metadata": {
        "colab": {
          "base_uri": "https://localhost:8080/"
        },
        "id": "ORBhS5ek92kU",
        "outputId": "6b4dce90-0ee2-487a-e25f-38fbb087ed17"
      },
      "execution_count": null,
      "outputs": [
        {
          "output_type": "stream",
          "name": "stdout",
          "text": [
            "         A1_Score    A2_Score    A3_Score    A4_Score    A5_Score    A6_Score  \\\n",
            "count  292.000000  292.000000  292.000000  292.000000  292.000000  292.000000   \n",
            "mean     0.633562    0.534247    0.743151    0.551370    0.743151    0.712329   \n",
            "std      0.482658    0.499682    0.437646    0.498208    0.437646    0.453454   \n",
            "min      0.000000    0.000000    0.000000    0.000000    0.000000    0.000000   \n",
            "25%      0.000000    0.000000    0.000000    0.000000    0.000000    0.000000   \n",
            "50%      1.000000    1.000000    1.000000    1.000000    1.000000    1.000000   \n",
            "75%      1.000000    1.000000    1.000000    1.000000    1.000000    1.000000   \n",
            "max      1.000000    1.000000    1.000000    1.000000    1.000000    1.000000   \n",
            "\n",
            "         A7_Score    A8_Score    A9_Score   A10_Score      result  \n",
            "count  292.000000  292.000000  292.000000  292.000000  292.000000  \n",
            "mean     0.606164    0.496575    0.493151    0.726027    6.239726  \n",
            "std      0.489438    0.500847    0.500811    0.446761    2.284882  \n",
            "min      0.000000    0.000000    0.000000    0.000000    0.000000  \n",
            "25%      0.000000    0.000000    0.000000    0.000000    5.000000  \n",
            "50%      1.000000    0.000000    0.000000    1.000000    6.000000  \n",
            "75%      1.000000    1.000000    1.000000    1.000000    8.000000  \n",
            "max      1.000000    1.000000    1.000000    1.000000   10.000000  \n"
          ]
        }
      ]
    },
    {
      "cell_type": "code",
      "source": [
        "# Data Preprocessing\n",
        "# drop unwanted columns\n",
        "data = data.drop(['result', 'age_desc'], axis=1)\n",
        "print(data.loc[:10])"
      ],
      "metadata": {
        "colab": {
          "base_uri": "https://localhost:8080/"
        },
        "id": "elbBhMBF96Cp",
        "outputId": "dcc1f042-fefd-4ecd-b51f-efcf382aa304"
      },
      "execution_count": null,
      "outputs": [
        {
          "output_type": "stream",
          "name": "stdout",
          "text": [
            "    A1_Score  A2_Score  A3_Score  A4_Score  A5_Score  A6_Score  A7_Score  \\\n",
            "0          1         1         0         0         1         1         0   \n",
            "1          1         1         0         0         1         1         0   \n",
            "2          1         1         0         0         0         1         1   \n",
            "3          0         1         0         0         1         1         0   \n",
            "4          1         1         1         1         1         1         1   \n",
            "5          0         0         1         0         1         1         0   \n",
            "6          1         0         1         1         1         1         0   \n",
            "7          1         1         1         1         1         1         1   \n",
            "8          1         1         1         1         1         1         1   \n",
            "9          0         0         1         1         1         0         1   \n",
            "10         1         0         0         0         1         1         1   \n",
            "\n",
            "    A8_Score  A9_Score  A10_Score age gender           ethnicity jundice  \\\n",
            "0          1         0          0   6       m             Others      no   \n",
            "1          1         0          0   6       m  'Middle Eastern '      no   \n",
            "2          1         0          0   6       m                  ?      no   \n",
            "3          0         0          1   5       f                  ?     yes   \n",
            "4          1         1          1   5       m             Others     yes   \n",
            "5          1         0          1   4       m                  ?      no   \n",
            "6          1         0          1   5       m     White-European      no   \n",
            "7          1         0          0   5       f  'Middle Eastern '      no   \n",
            "8          0         0          0  11       f  'Middle Eastern '      no   \n",
            "9          1         0          0  11       f                  ?      no   \n",
            "10         1         1          1  10       m     White-European     yes   \n",
            "\n",
            "   family_history_of_PDD     contry_of_res used_app_before relation class  \n",
            "0                     no            Jordan              no   Parent    NO  \n",
            "1                     no            Jordan              no   Parent    NO  \n",
            "2                     no            Jordan             yes        ?    NO  \n",
            "3                     no            Jordan              no        ?    NO  \n",
            "4                     no   'United States'              no   Parent   YES  \n",
            "5                    yes             Egypt              no        ?    NO  \n",
            "6                     no  'United Kingdom'              no   Parent   YES  \n",
            "7                     no           Bahrain              no   Parent   YES  \n",
            "8                     no           Bahrain              no   Parent   YES  \n",
            "9                    yes           Austria              no        ?    NO  \n",
            "10                    no  'United Kingdom'              no     Self   YES  \n"
          ]
        }
      ]
    },
    {
      "cell_type": "code",
      "source": [
        "# create X and Y dataset for training\n",
        "x = data.drop(['class'],1)\n",
        "y = data['class']\n",
        "print(x.loc[:10])"
      ],
      "metadata": {
        "colab": {
          "base_uri": "https://localhost:8080/"
        },
        "id": "iqwW_WDZ-CFy",
        "outputId": "70d0c15b-e060-4aac-f9de-f705fb865324"
      },
      "execution_count": null,
      "outputs": [
        {
          "output_type": "stream",
          "name": "stdout",
          "text": [
            "    A1_Score  A2_Score  A3_Score  A4_Score  A5_Score  A6_Score  A7_Score  \\\n",
            "0          1         1         0         0         1         1         0   \n",
            "1          1         1         0         0         1         1         0   \n",
            "2          1         1         0         0         0         1         1   \n",
            "3          0         1         0         0         1         1         0   \n",
            "4          1         1         1         1         1         1         1   \n",
            "5          0         0         1         0         1         1         0   \n",
            "6          1         0         1         1         1         1         0   \n",
            "7          1         1         1         1         1         1         1   \n",
            "8          1         1         1         1         1         1         1   \n",
            "9          0         0         1         1         1         0         1   \n",
            "10         1         0         0         0         1         1         1   \n",
            "\n",
            "    A8_Score  A9_Score  A10_Score age gender           ethnicity jundice  \\\n",
            "0          1         0          0   6       m             Others      no   \n",
            "1          1         0          0   6       m  'Middle Eastern '      no   \n",
            "2          1         0          0   6       m                  ?      no   \n",
            "3          0         0          1   5       f                  ?     yes   \n",
            "4          1         1          1   5       m             Others     yes   \n",
            "5          1         0          1   4       m                  ?      no   \n",
            "6          1         0          1   5       m     White-European      no   \n",
            "7          1         0          0   5       f  'Middle Eastern '      no   \n",
            "8          0         0          0  11       f  'Middle Eastern '      no   \n",
            "9          1         0          0  11       f                  ?      no   \n",
            "10         1         1          1  10       m     White-European     yes   \n",
            "\n",
            "   family_history_of_PDD     contry_of_res used_app_before relation  \n",
            "0                     no            Jordan              no   Parent  \n",
            "1                     no            Jordan              no   Parent  \n",
            "2                     no            Jordan             yes        ?  \n",
            "3                     no            Jordan              no        ?  \n",
            "4                     no   'United States'              no   Parent  \n",
            "5                    yes             Egypt              no        ?  \n",
            "6                     no  'United Kingdom'              no   Parent  \n",
            "7                     no           Bahrain              no   Parent  \n",
            "8                     no           Bahrain              no   Parent  \n",
            "9                    yes           Austria              no        ?  \n",
            "10                    no  'United Kingdom'              no     Self  \n"
          ]
        },
        {
          "output_type": "stream",
          "name": "stderr",
          "text": [
            "<ipython-input-9-913a87c362c3>:2: FutureWarning: In a future version of pandas all arguments of DataFrame.drop except for the argument 'labels' will be keyword-only.\n",
            "  x = data.drop(['class'],1)\n"
          ]
        }
      ]
    },
    {
      "cell_type": "code",
      "source": [
        "# convert the data to categorical values -one-hot-encoded vectors\n",
        "X = pd.get_dummies(x)"
      ],
      "metadata": {
        "id": "tPxT-Fei-G5W"
      },
      "execution_count": null,
      "outputs": []
    },
    {
      "cell_type": "code",
      "source": [
        "#print the new categorical labels\n",
        "print(X.columns.values)"
      ],
      "metadata": {
        "colab": {
          "base_uri": "https://localhost:8080/"
        },
        "id": "aKeHwIoj-NS3",
        "outputId": "5cff9f2a-465b-49ed-ca8d-c68405cc5fcd"
      },
      "execution_count": null,
      "outputs": [
        {
          "output_type": "stream",
          "name": "stdout",
          "text": [
            "['A1_Score' 'A2_Score' 'A3_Score' 'A4_Score' 'A5_Score' 'A6_Score'\n",
            " 'A7_Score' 'A8_Score' 'A9_Score' 'A10_Score' 'age_10' 'age_11' 'age_4'\n",
            " 'age_5' 'age_6' 'age_7' 'age_8' 'age_9' 'age_?' 'gender _f' 'gender _m'\n",
            " \"ethnicity_'Middle Eastern '\" \"ethnicity_'South Asian'\" 'ethnicity_?'\n",
            " 'ethnicity_Asian' 'ethnicity_Black' 'ethnicity_Hispanic'\n",
            " 'ethnicity_Latino' 'ethnicity_Others' 'ethnicity_Pasifika'\n",
            " 'ethnicity_Turkish' 'ethnicity_White-European' 'jundice_no' 'jundice_yes'\n",
            " 'family_history_of_PDD_no' 'family_history_of_PDD_yes'\n",
            " \"contry_of_res_'Costa Rica'\" \"contry_of_res_'Isle of Man'\"\n",
            " \"contry_of_res_'New Zealand'\" \"contry_of_res_'Saudi Arabia'\"\n",
            " \"contry_of_res_'South Africa'\" \"contry_of_res_'South Korea'\"\n",
            " \"contry_of_res_'U.S. Outlying Islands'\"\n",
            " \"contry_of_res_'United Arab Emirates'\" \"contry_of_res_'United Kingdom'\"\n",
            " \"contry_of_res_'United States'\" 'contry_of_res_Afghanistan'\n",
            " 'contry_of_res_Argentina' 'contry_of_res_Armenia'\n",
            " 'contry_of_res_Australia' 'contry_of_res_Austria' 'contry_of_res_Bahrain'\n",
            " 'contry_of_res_Bangladesh' 'contry_of_res_Bhutan' 'contry_of_res_Brazil'\n",
            " 'contry_of_res_Bulgaria' 'contry_of_res_Canada' 'contry_of_res_China'\n",
            " 'contry_of_res_Egypt' 'contry_of_res_Europe' 'contry_of_res_Georgia'\n",
            " 'contry_of_res_Germany' 'contry_of_res_Ghana' 'contry_of_res_India'\n",
            " 'contry_of_res_Iraq' 'contry_of_res_Ireland' 'contry_of_res_Italy'\n",
            " 'contry_of_res_Japan' 'contry_of_res_Jordan' 'contry_of_res_Kuwait'\n",
            " 'contry_of_res_Latvia' 'contry_of_res_Lebanon' 'contry_of_res_Libya'\n",
            " 'contry_of_res_Malaysia' 'contry_of_res_Malta' 'contry_of_res_Mexico'\n",
            " 'contry_of_res_Nepal' 'contry_of_res_Netherlands' 'contry_of_res_Nigeria'\n",
            " 'contry_of_res_Oman' 'contry_of_res_Pakistan' 'contry_of_res_Philippines'\n",
            " 'contry_of_res_Qatar' 'contry_of_res_Romania' 'contry_of_res_Russia'\n",
            " 'contry_of_res_Sweden' 'contry_of_res_Syria' 'contry_of_res_Turkey'\n",
            " 'used_app_before_no' 'used_app_before_yes'\n",
            " \"relation_'Health care professional'\" 'relation_?' 'relation_Parent'\n",
            " 'relation_Relative' 'relation_Self' 'relation_self']\n"
          ]
        }
      ]
    },
    {
      "cell_type": "code",
      "source": [
        "# print an example patient from the categorical data\n",
        "print(X.loc[1])"
      ],
      "metadata": {
        "colab": {
          "base_uri": "https://localhost:8080/"
        },
        "id": "A25ImcQL-Qyq",
        "outputId": "231ef74c-bf34-40cc-ab99-7255710fa9d4"
      },
      "execution_count": null,
      "outputs": [
        {
          "output_type": "stream",
          "name": "stdout",
          "text": [
            "A1_Score             1\n",
            "A2_Score             1\n",
            "A3_Score             0\n",
            "A4_Score             0\n",
            "A5_Score             1\n",
            "                    ..\n",
            "relation_?           0\n",
            "relation_Parent      1\n",
            "relation_Relative    0\n",
            "relation_Self        0\n",
            "relation_self        0\n",
            "Name: 1, Length: 96, dtype: int64\n"
          ]
        }
      ]
    },
    {
      "cell_type": "code",
      "source": [
        "# covert the class data to categorical values -one-hot-encoded vectors\n",
        "Y = pd.get_dummies(y)\n",
        "print(Y.iloc[:10])"
      ],
      "metadata": {
        "colab": {
          "base_uri": "https://localhost:8080/"
        },
        "id": "HMbVeVIj-UWb",
        "outputId": "9ecf54de-795d-479b-e74c-d006a9559811"
      },
      "execution_count": null,
      "outputs": [
        {
          "output_type": "stream",
          "name": "stdout",
          "text": [
            "   NO  YES\n",
            "0   1    0\n",
            "1   1    0\n",
            "2   1    0\n",
            "3   1    0\n",
            "4   0    1\n",
            "5   1    0\n",
            "6   0    1\n",
            "7   0    1\n",
            "8   0    1\n",
            "9   1    0\n"
          ]
        }
      ]
    },
    {
      "cell_type": "code",
      "source": [
        "# Split the X and Y data into training and testing datasets\n",
        "X_train, X_test, Y_train, Y_test = model_selection.train_test_split(X, Y, test_size = 0.2)\n",
        "print(X_train.shape)\n",
        "print(Y_train.shape)\n",
        "print(X_test.shape)\n",
        "print(Y_test.shape)"
      ],
      "metadata": {
        "colab": {
          "base_uri": "https://localhost:8080/"
        },
        "id": "fvMOw0YB-X-u",
        "outputId": "84e2f05c-667b-4a80-ed59-de30f70960d6"
      },
      "execution_count": null,
      "outputs": [
        {
          "output_type": "stream",
          "name": "stdout",
          "text": [
            "(233, 96)\n",
            "(233, 2)\n",
            "(59, 96)\n",
            "(59, 2)\n"
          ]
        }
      ]
    },
    {
      "cell_type": "code",
      "source": [
        "print(Y_test)"
      ],
      "metadata": {
        "colab": {
          "base_uri": "https://localhost:8080/"
        },
        "id": "zxS2xethAtJZ",
        "outputId": "5da8a5bd-a3b4-4ded-b46a-4be529917acd"
      },
      "execution_count": null,
      "outputs": [
        {
          "output_type": "stream",
          "name": "stdout",
          "text": [
            "     NO  YES\n",
            "253   0    1\n",
            "77    1    0\n",
            "31    1    0\n",
            "84    1    0\n",
            "75    1    0\n",
            "142   0    1\n",
            "153   0    1\n",
            "114   1    0\n",
            "45    1    0\n",
            "12    0    1\n",
            "17    1    0\n",
            "172   0    1\n",
            "126   0    1\n",
            "273   0    1\n",
            "155   0    1\n",
            "226   1    0\n",
            "191   0    1\n",
            "46    1    0\n",
            "105   0    1\n",
            "272   1    0\n",
            "261   1    0\n",
            "60    1    0\n",
            "30    0    1\n",
            "237   1    0\n",
            "281   1    0\n",
            "127   0    1\n",
            "111   1    0\n",
            "59    0    1\n",
            "42    1    0\n",
            "160   0    1\n",
            "137   1    0\n",
            "232   0    1\n",
            "102   1    0\n",
            "163   0    1\n",
            "207   0    1\n",
            "213   1    0\n",
            "246   1    0\n",
            "10    0    1\n",
            "269   1    0\n",
            "251   0    1\n",
            "286   0    1\n",
            "103   1    0\n",
            "15    0    1\n",
            "85    0    1\n",
            "148   1    0\n",
            "78    0    1\n",
            "5     1    0\n",
            "53    0    1\n",
            "181   1    0\n",
            "73    0    1\n",
            "128   1    0\n",
            "37    1    0\n",
            "282   1    0\n",
            "124   0    1\n",
            "69    0    1\n",
            "222   0    1\n",
            "16    0    1\n",
            "106   0    1\n",
            "87    0    1\n"
          ]
        }
      ]
    },
    {
      "cell_type": "code",
      "source": [
        "# define a function to build the keras model\n",
        "def create_model():\n",
        "    model = Sequential()\n",
        "    model.add(Dense(8, input_dim=96, kernel_initializer='normal', activation='relu'))\n",
        "    model.add(Dense(4, kernel_initializer='normal', activation='relu'))\n",
        "    model.add(Dense(2, activation='sigmoid'))\n",
        "\n",
        "    adam=Adam(lr=0.001)\n",
        "    model.compile(loss='categorical_crossentropy', optimizer=adam, metrics=['accuracy'])\n",
        "    return model"
      ],
      "metadata": {
        "id": "6r6urSXa-qkz"
      },
      "execution_count": null,
      "outputs": []
    },
    {
      "cell_type": "code",
      "source": [
        "model = create_model()\n",
        "print(model.summary())"
      ],
      "metadata": {
        "colab": {
          "base_uri": "https://localhost:8080/"
        },
        "id": "Vfv0nH_G-vhC",
        "outputId": "54059781-e955-4d8e-f22e-2758570cda67"
      },
      "execution_count": null,
      "outputs": [
        {
          "output_type": "stream",
          "name": "stdout",
          "text": [
            "Model: \"sequential\"\n",
            "_________________________________________________________________\n",
            " Layer (type)                Output Shape              Param #   \n",
            "=================================================================\n",
            " dense (Dense)               (None, 8)                 776       \n",
            "                                                                 \n",
            " dense_1 (Dense)             (None, 4)                 36        \n",
            "                                                                 \n",
            " dense_2 (Dense)             (None, 2)                 10        \n",
            "                                                                 \n",
            "=================================================================\n",
            "Total params: 822\n",
            "Trainable params: 822\n",
            "Non-trainable params: 0\n",
            "_________________________________________________________________\n",
            "None\n"
          ]
        },
        {
          "output_type": "stream",
          "name": "stderr",
          "text": [
            "/usr/local/lib/python3.9/dist-packages/keras/optimizers/optimizer_v2/adam.py:117: UserWarning: The `lr` argument is deprecated, use `learning_rate` instead.\n",
            "  super().__init__(name, **kwargs)\n"
          ]
        }
      ]
    },
    {
      "cell_type": "code",
      "source": [
        "# Training the network - fit the model to the training data\n",
        "model.fit(X_train, Y_train, epochs = 50, batch_size=10, verbose =1)"
      ],
      "metadata": {
        "colab": {
          "base_uri": "https://localhost:8080/"
        },
        "id": "RHK7_AJa-ycH",
        "outputId": "4d3a4e10-88c9-47a5-eb42-c3bc43c63db6"
      },
      "execution_count": null,
      "outputs": [
        {
          "output_type": "stream",
          "name": "stdout",
          "text": [
            "Epoch 1/50\n",
            "24/24 [==============================] - 1s 2ms/step - loss: 0.6931 - accuracy: 0.4936\n",
            "Epoch 2/50\n",
            "24/24 [==============================] - 0s 2ms/step - loss: 0.6893 - accuracy: 0.6223\n",
            "Epoch 3/50\n",
            "24/24 [==============================] - 0s 2ms/step - loss: 0.6810 - accuracy: 0.8026\n",
            "Epoch 4/50\n",
            "24/24 [==============================] - 0s 2ms/step - loss: 0.6627 - accuracy: 0.8455\n",
            "Epoch 5/50\n",
            "24/24 [==============================] - 0s 2ms/step - loss: 0.6292 - accuracy: 0.8712\n",
            "Epoch 6/50\n",
            "24/24 [==============================] - 0s 2ms/step - loss: 0.5792 - accuracy: 0.9056\n",
            "Epoch 7/50\n",
            "24/24 [==============================] - 0s 2ms/step - loss: 0.5141 - accuracy: 0.8798\n",
            "Epoch 8/50\n",
            "24/24 [==============================] - 0s 2ms/step - loss: 0.4424 - accuracy: 0.9142\n",
            "Epoch 9/50\n",
            "24/24 [==============================] - 0s 2ms/step - loss: 0.3762 - accuracy: 0.9227\n",
            "Epoch 10/50\n",
            "24/24 [==============================] - 0s 2ms/step - loss: 0.3223 - accuracy: 0.9099\n",
            "Epoch 11/50\n",
            "24/24 [==============================] - 0s 3ms/step - loss: 0.2753 - accuracy: 0.9313\n",
            "Epoch 12/50\n",
            "24/24 [==============================] - 0s 3ms/step - loss: 0.2413 - accuracy: 0.9442\n",
            "Epoch 13/50\n",
            "24/24 [==============================] - 0s 3ms/step - loss: 0.2096 - accuracy: 0.9485\n",
            "Epoch 14/50\n",
            "24/24 [==============================] - 0s 3ms/step - loss: 0.1835 - accuracy: 0.9614\n",
            "Epoch 15/50\n",
            "24/24 [==============================] - 0s 3ms/step - loss: 0.1622 - accuracy: 0.9828\n",
            "Epoch 16/50\n",
            "24/24 [==============================] - 0s 3ms/step - loss: 0.1451 - accuracy: 0.9785\n",
            "Epoch 17/50\n",
            "24/24 [==============================] - 0s 3ms/step - loss: 0.1327 - accuracy: 0.9871\n",
            "Epoch 18/50\n",
            "24/24 [==============================] - 0s 3ms/step - loss: 0.1252 - accuracy: 0.9742\n",
            "Epoch 19/50\n",
            "24/24 [==============================] - 0s 3ms/step - loss: 0.1065 - accuracy: 0.9914\n",
            "Epoch 20/50\n",
            "24/24 [==============================] - 0s 3ms/step - loss: 0.0991 - accuracy: 0.9957\n",
            "Epoch 21/50\n",
            "24/24 [==============================] - 0s 3ms/step - loss: 0.0952 - accuracy: 0.9828\n",
            "Epoch 22/50\n",
            "24/24 [==============================] - 0s 3ms/step - loss: 0.0814 - accuracy: 0.9957\n",
            "Epoch 23/50\n",
            "24/24 [==============================] - 0s 3ms/step - loss: 0.0758 - accuracy: 0.9957\n",
            "Epoch 24/50\n",
            "24/24 [==============================] - 0s 3ms/step - loss: 0.0697 - accuracy: 0.9957\n",
            "Epoch 25/50\n",
            "24/24 [==============================] - 0s 3ms/step - loss: 0.0657 - accuracy: 0.9957\n",
            "Epoch 26/50\n",
            "24/24 [==============================] - 0s 3ms/step - loss: 0.0607 - accuracy: 0.9957\n",
            "Epoch 27/50\n",
            "24/24 [==============================] - 0s 3ms/step - loss: 0.0560 - accuracy: 0.9957\n",
            "Epoch 28/50\n",
            "24/24 [==============================] - 0s 3ms/step - loss: 0.0517 - accuracy: 1.0000\n",
            "Epoch 29/50\n",
            "24/24 [==============================] - 0s 3ms/step - loss: 0.0504 - accuracy: 1.0000\n",
            "Epoch 30/50\n",
            "24/24 [==============================] - 0s 3ms/step - loss: 0.0461 - accuracy: 1.0000\n",
            "Epoch 31/50\n",
            "24/24 [==============================] - 0s 3ms/step - loss: 0.0419 - accuracy: 1.0000\n",
            "Epoch 32/50\n",
            "24/24 [==============================] - 0s 3ms/step - loss: 0.0419 - accuracy: 1.0000\n",
            "Epoch 33/50\n",
            "24/24 [==============================] - 0s 3ms/step - loss: 0.0379 - accuracy: 1.0000\n",
            "Epoch 34/50\n",
            "24/24 [==============================] - 0s 3ms/step - loss: 0.0360 - accuracy: 1.0000\n",
            "Epoch 35/50\n",
            "24/24 [==============================] - 0s 3ms/step - loss: 0.0332 - accuracy: 1.0000\n",
            "Epoch 36/50\n",
            "24/24 [==============================] - 0s 3ms/step - loss: 0.0306 - accuracy: 1.0000\n",
            "Epoch 37/50\n",
            "24/24 [==============================] - 0s 2ms/step - loss: 0.0293 - accuracy: 1.0000\n",
            "Epoch 38/50\n",
            "24/24 [==============================] - 0s 2ms/step - loss: 0.0274 - accuracy: 1.0000\n",
            "Epoch 39/50\n",
            "24/24 [==============================] - 0s 2ms/step - loss: 0.0259 - accuracy: 1.0000\n",
            "Epoch 40/50\n",
            "24/24 [==============================] - 0s 2ms/step - loss: 0.0247 - accuracy: 1.0000\n",
            "Epoch 41/50\n",
            "24/24 [==============================] - 0s 3ms/step - loss: 0.0228 - accuracy: 1.0000\n",
            "Epoch 42/50\n",
            "24/24 [==============================] - 0s 3ms/step - loss: 0.0220 - accuracy: 1.0000\n",
            "Epoch 43/50\n",
            "24/24 [==============================] - 0s 3ms/step - loss: 0.0210 - accuracy: 1.0000\n",
            "Epoch 44/50\n",
            "24/24 [==============================] - 0s 3ms/step - loss: 0.0202 - accuracy: 1.0000\n",
            "Epoch 45/50\n",
            "24/24 [==============================] - 0s 3ms/step - loss: 0.0188 - accuracy: 1.0000\n",
            "Epoch 46/50\n",
            "24/24 [==============================] - 0s 3ms/step - loss: 0.0181 - accuracy: 1.0000\n",
            "Epoch 47/50\n",
            "24/24 [==============================] - 0s 3ms/step - loss: 0.0169 - accuracy: 1.0000\n",
            "Epoch 48/50\n",
            "24/24 [==============================] - 0s 3ms/step - loss: 0.0158 - accuracy: 1.0000\n",
            "Epoch 49/50\n",
            "24/24 [==============================] - 0s 3ms/step - loss: 0.0154 - accuracy: 1.0000\n",
            "Epoch 50/50\n",
            "24/24 [==============================] - 0s 4ms/step - loss: 0.0145 - accuracy: 1.0000\n"
          ]
        },
        {
          "output_type": "execute_result",
          "data": {
            "text/plain": [
              "<keras.callbacks.History at 0x7f17fdd2a8e0>"
            ]
          },
          "metadata": {},
          "execution_count": 19
        }
      ]
    },
    {
      "cell_type": "code",
      "source": [
        "# Testing and Performance metrics\n",
        "\n",
        "# generate classification report using predictions for categorical model\n",
        "predictions = model.predict(X_test).round()\n",
        "print(predictions)"
      ],
      "metadata": {
        "colab": {
          "base_uri": "https://localhost:8080/"
        },
        "id": "HqhRuC5u-1FD",
        "outputId": "e6aead61-a6a5-49dc-b40a-a1392ae6cef7"
      },
      "execution_count": null,
      "outputs": [
        {
          "output_type": "stream",
          "name": "stdout",
          "text": [
            "2/2 [==============================] - 0s 8ms/step\n",
            "[[0. 1.]\n",
            " [1. 0.]\n",
            " [1. 0.]\n",
            " [1. 0.]\n",
            " [1. 0.]\n",
            " [0. 1.]\n",
            " [0. 1.]\n",
            " [0. 1.]\n",
            " [1. 0.]\n",
            " [0. 1.]\n",
            " [1. 0.]\n",
            " [0. 1.]\n",
            " [0. 1.]\n",
            " [0. 1.]\n",
            " [0. 1.]\n",
            " [1. 0.]\n",
            " [0. 1.]\n",
            " [1. 0.]\n",
            " [0. 1.]\n",
            " [1. 0.]\n",
            " [1. 0.]\n",
            " [1. 0.]\n",
            " [0. 1.]\n",
            " [1. 0.]\n",
            " [1. 0.]\n",
            " [0. 1.]\n",
            " [1. 0.]\n",
            " [0. 1.]\n",
            " [1. 0.]\n",
            " [0. 1.]\n",
            " [1. 0.]\n",
            " [1. 0.]\n",
            " [1. 0.]\n",
            " [0. 1.]\n",
            " [0. 1.]\n",
            " [1. 0.]\n",
            " [1. 0.]\n",
            " [1. 0.]\n",
            " [1. 0.]\n",
            " [0. 1.]\n",
            " [0. 1.]\n",
            " [1. 0.]\n",
            " [0. 1.]\n",
            " [0. 1.]\n",
            " [0. 0.]\n",
            " [0. 1.]\n",
            " [1. 0.]\n",
            " [0. 1.]\n",
            " [1. 0.]\n",
            " [0. 1.]\n",
            " [1. 0.]\n",
            " [1. 0.]\n",
            " [1. 0.]\n",
            " [0. 1.]\n",
            " [0. 1.]\n",
            " [0. 1.]\n",
            " [0. 1.]\n",
            " [0. 1.]\n",
            " [0. 1.]]\n"
          ]
        }
      ]
    },
    {
      "cell_type": "code",
      "source": [
        "print('Prediction Reults for Neural Network')\n",
        "print(accuracy_score(Y_test[['YES']], predictions))\n",
        "print(classification_report(Y_test[['YES']], predictions))"
      ],
      "metadata": {
        "colab": {
          "base_uri": "https://localhost:8080/",
          "height": 363
        },
        "id": "InM2dTSa-5xc",
        "outputId": "4e3f404d-7294-439a-f277-17c2810d2296"
      },
      "execution_count": null,
      "outputs": [
        {
          "output_type": "stream",
          "name": "stdout",
          "text": [
            "Prediction Reults for Neural Network\n"
          ]
        },
        {
          "output_type": "error",
          "ename": "ValueError",
          "evalue": "ignored",
          "traceback": [
            "\u001b[0;31m---------------------------------------------------------------------------\u001b[0m",
            "\u001b[0;31mValueError\u001b[0m                                Traceback (most recent call last)",
            "\u001b[0;32m<ipython-input-35-7bcbc82c9734>\u001b[0m in \u001b[0;36m<module>\u001b[0;34m\u001b[0m\n\u001b[1;32m      1\u001b[0m \u001b[0mprint\u001b[0m\u001b[0;34m(\u001b[0m\u001b[0;34m'Prediction Reults for Neural Network'\u001b[0m\u001b[0;34m)\u001b[0m\u001b[0;34m\u001b[0m\u001b[0;34m\u001b[0m\u001b[0m\n\u001b[0;32m----> 2\u001b[0;31m \u001b[0mprint\u001b[0m\u001b[0;34m(\u001b[0m\u001b[0maccuracy_score\u001b[0m\u001b[0;34m(\u001b[0m\u001b[0mY_test\u001b[0m\u001b[0;34m[\u001b[0m\u001b[0;34m[\u001b[0m\u001b[0;34m'YES'\u001b[0m\u001b[0;34m]\u001b[0m\u001b[0;34m]\u001b[0m\u001b[0;34m,\u001b[0m \u001b[0mpredictions\u001b[0m\u001b[0;34m)\u001b[0m\u001b[0;34m)\u001b[0m\u001b[0;34m\u001b[0m\u001b[0;34m\u001b[0m\u001b[0m\n\u001b[0m\u001b[1;32m      3\u001b[0m \u001b[0mprint\u001b[0m\u001b[0;34m(\u001b[0m\u001b[0mclassification_report\u001b[0m\u001b[0;34m(\u001b[0m\u001b[0mY_test\u001b[0m\u001b[0;34m[\u001b[0m\u001b[0;34m[\u001b[0m\u001b[0;34m'YES'\u001b[0m\u001b[0;34m]\u001b[0m\u001b[0;34m]\u001b[0m\u001b[0;34m,\u001b[0m \u001b[0mpredictions\u001b[0m\u001b[0;34m)\u001b[0m\u001b[0;34m)\u001b[0m\u001b[0;34m\u001b[0m\u001b[0;34m\u001b[0m\u001b[0m\n",
            "\u001b[0;32m/usr/local/lib/python3.9/dist-packages/sklearn/utils/_param_validation.py\u001b[0m in \u001b[0;36mwrapper\u001b[0;34m(*args, **kwargs)\u001b[0m\n\u001b[1;32m    190\u001b[0m \u001b[0;34m\u001b[0m\u001b[0m\n\u001b[1;32m    191\u001b[0m             \u001b[0;32mtry\u001b[0m\u001b[0;34m:\u001b[0m\u001b[0;34m\u001b[0m\u001b[0;34m\u001b[0m\u001b[0m\n\u001b[0;32m--> 192\u001b[0;31m                 \u001b[0;32mreturn\u001b[0m \u001b[0mfunc\u001b[0m\u001b[0;34m(\u001b[0m\u001b[0;34m*\u001b[0m\u001b[0margs\u001b[0m\u001b[0;34m,\u001b[0m \u001b[0;34m**\u001b[0m\u001b[0mkwargs\u001b[0m\u001b[0;34m)\u001b[0m\u001b[0;34m\u001b[0m\u001b[0;34m\u001b[0m\u001b[0m\n\u001b[0m\u001b[1;32m    193\u001b[0m             \u001b[0;32mexcept\u001b[0m \u001b[0mInvalidParameterError\u001b[0m \u001b[0;32mas\u001b[0m \u001b[0me\u001b[0m\u001b[0;34m:\u001b[0m\u001b[0;34m\u001b[0m\u001b[0;34m\u001b[0m\u001b[0m\n\u001b[1;32m    194\u001b[0m                 \u001b[0;31m# When the function is just a wrapper around an estimator, we allow\u001b[0m\u001b[0;34m\u001b[0m\u001b[0;34m\u001b[0m\u001b[0m\n",
            "\u001b[0;32m/usr/local/lib/python3.9/dist-packages/sklearn/metrics/_classification.py\u001b[0m in \u001b[0;36maccuracy_score\u001b[0;34m(y_true, y_pred, normalize, sample_weight)\u001b[0m\n\u001b[1;32m    219\u001b[0m \u001b[0;34m\u001b[0m\u001b[0m\n\u001b[1;32m    220\u001b[0m     \u001b[0;31m# Compute accuracy for each possible representation\u001b[0m\u001b[0;34m\u001b[0m\u001b[0;34m\u001b[0m\u001b[0m\n\u001b[0;32m--> 221\u001b[0;31m     \u001b[0my_type\u001b[0m\u001b[0;34m,\u001b[0m \u001b[0my_true\u001b[0m\u001b[0;34m,\u001b[0m \u001b[0my_pred\u001b[0m \u001b[0;34m=\u001b[0m \u001b[0m_check_targets\u001b[0m\u001b[0;34m(\u001b[0m\u001b[0my_true\u001b[0m\u001b[0;34m,\u001b[0m \u001b[0my_pred\u001b[0m\u001b[0;34m)\u001b[0m\u001b[0;34m\u001b[0m\u001b[0;34m\u001b[0m\u001b[0m\n\u001b[0m\u001b[1;32m    222\u001b[0m     \u001b[0mcheck_consistent_length\u001b[0m\u001b[0;34m(\u001b[0m\u001b[0my_true\u001b[0m\u001b[0;34m,\u001b[0m \u001b[0my_pred\u001b[0m\u001b[0;34m,\u001b[0m \u001b[0msample_weight\u001b[0m\u001b[0;34m)\u001b[0m\u001b[0;34m\u001b[0m\u001b[0;34m\u001b[0m\u001b[0m\n\u001b[1;32m    223\u001b[0m     \u001b[0;32mif\u001b[0m \u001b[0my_type\u001b[0m\u001b[0;34m.\u001b[0m\u001b[0mstartswith\u001b[0m\u001b[0;34m(\u001b[0m\u001b[0;34m\"multilabel\"\u001b[0m\u001b[0;34m)\u001b[0m\u001b[0;34m:\u001b[0m\u001b[0;34m\u001b[0m\u001b[0;34m\u001b[0m\u001b[0m\n",
            "\u001b[0;32m/usr/local/lib/python3.9/dist-packages/sklearn/metrics/_classification.py\u001b[0m in \u001b[0;36m_check_targets\u001b[0;34m(y_true, y_pred)\u001b[0m\n\u001b[1;32m     93\u001b[0m \u001b[0;34m\u001b[0m\u001b[0m\n\u001b[1;32m     94\u001b[0m     \u001b[0;32mif\u001b[0m \u001b[0mlen\u001b[0m\u001b[0;34m(\u001b[0m\u001b[0my_type\u001b[0m\u001b[0;34m)\u001b[0m \u001b[0;34m>\u001b[0m \u001b[0;36m1\u001b[0m\u001b[0;34m:\u001b[0m\u001b[0;34m\u001b[0m\u001b[0;34m\u001b[0m\u001b[0m\n\u001b[0;32m---> 95\u001b[0;31m         raise ValueError(\n\u001b[0m\u001b[1;32m     96\u001b[0m             \"Classification metrics can't handle a mix of {0} and {1} targets\".format(\n\u001b[1;32m     97\u001b[0m                 \u001b[0mtype_true\u001b[0m\u001b[0;34m,\u001b[0m \u001b[0mtype_pred\u001b[0m\u001b[0;34m\u001b[0m\u001b[0;34m\u001b[0m\u001b[0m\n",
            "\u001b[0;31mValueError\u001b[0m: Classification metrics can't handle a mix of binary and continuous-multioutput targets"
          ]
        }
      ]
    },
    {
      "cell_type": "code",
      "source": [
        "#prediction for any example\n",
        "example = X_test.iloc[4]\n",
        "print(example)\n",
        "prediction = model.predict(example.values.reshape(1,-1))\n",
        "print(prediction)"
      ],
      "metadata": {
        "colab": {
          "base_uri": "https://localhost:8080/"
        },
        "id": "beER2R4pA2_1",
        "outputId": "c343955c-88b8-47d1-cd1f-f69dc8b743d8"
      },
      "execution_count": null,
      "outputs": [
        {
          "output_type": "stream",
          "name": "stdout",
          "text": [
            "A1_Score             0\n",
            "A2_Score             0\n",
            "A3_Score             0\n",
            "A4_Score             1\n",
            "A5_Score             1\n",
            "                    ..\n",
            "relation_?           0\n",
            "relation_Parent      1\n",
            "relation_Relative    0\n",
            "relation_Self        0\n",
            "relation_self        0\n",
            "Name: 75, Length: 96, dtype: int64\n",
            "1/1 [==============================] - 0s 69ms/step\n",
            "[[0.87927127 0.0946185 ]]\n"
          ]
        }
      ]
    },
    {
      "cell_type": "code",
      "source": [],
      "metadata": {
        "id": "SE1rzq-LCeDn"
      },
      "execution_count": null,
      "outputs": []
    }
  ]
}